{
 "cells": [
  {
   "cell_type": "code",
   "execution_count": 14,
   "metadata": {},
   "outputs": [],
   "source": [
    "import numpy as np\n",
    "import pandas as pd\n",
    "import re\n",
    "\n",
    "from os.path import join as path_join\n",
    "from collections import Counter\n",
    "from string import punctuation\n",
    "\n",
    "import warnings\n",
    "warnings.filterwarnings('ignore')"
   ]
  },
  {
   "cell_type": "code",
   "execution_count": 12,
   "metadata": {},
   "outputs": [],
   "source": [
    "DATA_PATH = 'data'\n",
    "\n",
    "train = pd.read_csv(path_join(DATA_PATH, 'train.csv'), parse_dates=['date_created', 'user_date_created'])\n",
    "test = pd.read_csv(path_join(DATA_PATH, 'test.csv'), parse_dates=['date_created', 'user_date_created'])"
   ]
  },
  {
   "cell_type": "code",
   "execution_count": 3,
   "metadata": {},
   "outputs": [
    {
     "data": {
      "text/plain": [
       "Index(['comment_id', 'company_id', 'user_id', 'product_id', 'comment',\n",
       "       'rating', 'date_created', 'user_date_created', 'user_ip', 'user_agent',\n",
       "       'is_fake'],\n",
       "      dtype='object')"
      ]
     },
     "execution_count": 3,
     "metadata": {},
     "output_type": "execute_result"
    }
   ],
   "source": [
    "train.columns"
   ]
  },
  {
   "cell_type": "code",
   "execution_count": 7,
   "metadata": {},
   "outputs": [],
   "source": [
    "test_df = pd.DataFrame()"
   ]
  },
  {
   "cell_type": "code",
   "execution_count": 13,
   "metadata": {},
   "outputs": [],
   "source": [
    "def get_count_words(df):\n",
    "    return df['comment'].apply(lambda x: len(str(x).split()))\n",
    "\n",
    "def get_sentence_count(df):\n",
    "    return df[\"comment\"].apply(lambda x: len(re.findall(\"\\n\",str(x)))+1)\n",
    "    \n",
    "def get_unique_word(df):\n",
    "    return df[\"comment\"].apply(lambda x: len(set(str(x).split())))\n",
    "\n",
    "def get_count_letter(df):\n",
    "    return df[\"comment\"].apply(lambda x: len(str(x)))\n",
    "\n",
    "def get_count_punctuation(df):\n",
    "    return df[\"comment\"].apply(lambda x: len([c for c in str(x) if c in string.punctuation]))\n",
    "\n",
    "def get_upper_words(df):\n",
    "    return df[\"comment\"].apply(lambda x: len([w for w in str(x).split() if w.isupper()]))\n",
    "\n",
    "def get_words_title(df):\n",
    "    return df[\"comment\"].apply(lambda x: len([w for w in str(x).split() if w.istitle()]))\n",
    "\n",
    "def get_unique_percent(df):\n",
    "    return get_unique_word(df) * 100 / get_count_words(df)"
   ]
  },
  {
   "cell_type": "code",
   "execution_count": 9,
   "metadata": {},
   "outputs": [],
   "source": []
  },
  {
   "cell_type": "code",
   "execution_count": null,
   "metadata": {},
   "outputs": [],
   "source": []
  },
  {
   "cell_type": "code",
   "execution_count": null,
   "metadata": {},
   "outputs": [],
   "source": []
  },
  {
   "cell_type": "code",
   "execution_count": null,
   "metadata": {},
   "outputs": [],
   "source": []
  }
 ],
 "metadata": {
  "kernelspec": {
   "display_name": "Python 3",
   "language": "python",
   "name": "python3"
  },
  "language_info": {
   "codemirror_mode": {
    "name": "ipython",
    "version": 3
   },
   "file_extension": ".py",
   "mimetype": "text/x-python",
   "name": "python",
   "nbconvert_exporter": "python",
   "pygments_lexer": "ipython3",
   "version": "3.6.3"
  }
 },
 "nbformat": 4,
 "nbformat_minor": 2
}
